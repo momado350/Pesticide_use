{
 "cells": [
  {
   "cell_type": "code",
   "execution_count": 6,
   "metadata": {},
   "outputs": [],
   "source": [
    "import glob\n",
    "import os\n",
    "import pandas as pd  \n",
    "# use Pandas concat to map multiple tables in one dataframe for all fungicides \n",
    "df = pd.concat(map(pd.read_csv, glob.glob(os.path.join('', \"/Users/momad/Documents/agri_repos/Pesticide_use/original fungicides data/almonds_fung_*.csv\"))))"
   ]
  },
  {
   "cell_type": "code",
   "execution_count": 8,
   "metadata": {},
   "outputs": [],
   "source": [
    "# export the dataframe as csv file and save it in the root directory of this project\n",
    "df.to_csv(r\"clean_fungicides.csv\", index=False)"
   ]
  },
  {
   "cell_type": "code",
   "execution_count": 10,
   "metadata": {},
   "outputs": [],
   "source": [
    "# use Pandas concat to map multiple tables in one dataframe for all Herbicides \n",
    "df_herb = pd.concat(map(pd.read_csv, glob.glob(os.path.join('', \"/Users/momad/Documents/agri_repos/Pesticide_use/original Herbicides data/use_table1_2021-04-25-*.csv\"))))"
   ]
  },
  {
   "cell_type": "code",
   "execution_count": 11,
   "metadata": {},
   "outputs": [],
   "source": [
    "# export the dataframe as csv file and save it in the root directory of this project\n",
    "df_herb.to_csv(r\"clean_herbicides.csv\", index=False)"
   ]
  },
  {
   "cell_type": "code",
   "execution_count": 12,
   "metadata": {},
   "outputs": [],
   "source": [
    "# use Pandas concat to map multiple tables in one dataframe for all insecticides \n",
    "df_insect = pd.concat(map(pd.read_csv, glob.glob(os.path.join('', \"/Users/momad/Documents/agri_repos/Pesticide_use/original insecticides data/use_table1_2021-04-25-*.csv\"))))"
   ]
  },
  {
   "cell_type": "code",
   "execution_count": null,
   "metadata": {},
   "outputs": [],
   "source": []
  }
 ],
 "metadata": {
  "kernelspec": {
   "display_name": "Python [conda env:PythonData] *",
   "language": "python",
   "name": "conda-env-PythonData-py"
  },
  "language_info": {
   "codemirror_mode": {
    "name": "ipython",
    "version": 3
   },
   "file_extension": ".py",
   "mimetype": "text/x-python",
   "name": "python",
   "nbconvert_exporter": "python",
   "pygments_lexer": "ipython3",
   "version": "3.6.10"
  }
 },
 "nbformat": 4,
 "nbformat_minor": 4
}
